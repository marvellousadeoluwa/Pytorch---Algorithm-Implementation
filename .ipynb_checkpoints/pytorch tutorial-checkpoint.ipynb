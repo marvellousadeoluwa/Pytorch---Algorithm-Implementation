{
 "cells": [
  {
   "cell_type": "code",
   "execution_count": 1,
   "id": "d9cc6a17",
   "metadata": {},
   "outputs": [
    {
     "name": "stderr",
     "output_type": "stream",
     "text": [
      "'__version__' is not recognized as an internal or external command,\n",
      "operable program or batch file.\n"
     ]
    }
   ],
   "source": [
    "!__version__"
   ]
  },
  {
   "cell_type": "code",
   "execution_count": 2,
   "id": "144ce75a",
   "metadata": {},
   "outputs": [],
   "source": [
    "import numpy as np"
   ]
  },
  {
   "cell_type": "code",
   "execution_count": 3,
   "id": "63ba71d3",
   "metadata": {},
   "outputs": [
    {
     "data": {
      "text/plain": [
       "'1.20.1'"
      ]
     },
     "execution_count": 3,
     "metadata": {},
     "output_type": "execute_result"
    }
   ],
   "source": [
    "np.__version__"
   ]
  },
  {
   "cell_type": "code",
   "execution_count": 4,
   "id": "2f263fa7",
   "metadata": {},
   "outputs": [],
   "source": [
    "import torch"
   ]
  },
  {
   "cell_type": "code",
   "execution_count": 5,
   "id": "ba493e93",
   "metadata": {},
   "outputs": [],
   "source": [
    "x = torch.rand(3,3)\n",
    "y = torch.rand(3,3)"
   ]
  },
  {
   "cell_type": "code",
   "execution_count": 6,
   "id": "1c054b40",
   "metadata": {},
   "outputs": [
    {
     "name": "stdout",
     "output_type": "stream",
     "text": [
      "tensor([[0.3573, 0.8858, 1.4305],\n",
      "        [0.6426, 1.1111, 1.0093],\n",
      "        [1.2704, 0.9013, 1.2325]])\n"
     ]
    }
   ],
   "source": [
    "print(x + y)"
   ]
  },
  {
   "cell_type": "markdown",
   "id": "a62239a7",
   "metadata": {},
   "source": [
    "2. Numpy - tensor conversion"
   ]
  },
  {
   "cell_type": "code",
   "execution_count": 7,
   "id": "850cda5f",
   "metadata": {},
   "outputs": [
    {
     "name": "stdout",
     "output_type": "stream",
     "text": [
      "tensor([1., 1., 1., 1., 1.]) <class 'torch.Tensor'>\n",
      "[1. 1. 1. 1. 1.] <class 'numpy.ndarray'>\n"
     ]
    }
   ],
   "source": [
    "a = torch.ones(5)\n",
    "print(a, type(a))\n",
    "b = a.numpy()\n",
    "print(b, type(b))"
   ]
  },
  {
   "cell_type": "markdown",
   "id": "6afc448e",
   "metadata": {},
   "source": [
    " 3. Autograd - calculate gradient (requires_grad = True param)"
   ]
  },
  {
   "cell_type": "code",
   "execution_count": 8,
   "id": "bf8dcd47",
   "metadata": {},
   "outputs": [
    {
     "name": "stdout",
     "output_type": "stream",
     "text": [
      "tensor([ 0.3859, -0.9858, -1.3800], requires_grad=True)\n"
     ]
    }
   ],
   "source": [
    "c = torch.randn(3, requires_grad = True)\n",
    "\n",
    "print(c)"
   ]
  },
  {
   "cell_type": "code",
   "execution_count": 9,
   "id": "e008198b",
   "metadata": {},
   "outputs": [
    {
     "name": "stdout",
     "output_type": "stream",
     "text": [
      "tensor([2.3859, 1.0142, 0.6200], grad_fn=<AddBackward0>)\n"
     ]
    }
   ],
   "source": [
    "cf = c + 2\n",
    "print(cf)"
   ]
  },
  {
   "cell_type": "code",
   "execution_count": 10,
   "id": "3a7af942",
   "metadata": {},
   "outputs": [
    {
     "name": "stdout",
     "output_type": "stream",
     "text": [
      "tensor([13.5813,  1.0432,  0.2383], grad_fn=<MulBackward0>)\n",
      "tensor(4.9543, grad_fn=<MeanBackward0>)\n"
     ]
    }
   ],
   "source": [
    "grd = cf *cf ** 2\n",
    "print(grd)\n",
    "grd = grd.mean()\n",
    "print(grd)"
   ]
  },
  {
   "cell_type": "code",
   "execution_count": 11,
   "id": "4cfaf07a",
   "metadata": {},
   "outputs": [
    {
     "name": "stdout",
     "output_type": "stream",
     "text": [
      "tensor(4.9543, grad_fn=<MeanBackward0>)\n"
     ]
    }
   ],
   "source": [
    "grd.backward()\n",
    "print(grd)"
   ]
  },
  {
   "cell_type": "code",
   "execution_count": 12,
   "id": "67bac83c",
   "metadata": {},
   "outputs": [],
   "source": [
    "# for every computation we do , pytorch creates a computational graph"
   ]
  },
  {
   "cell_type": "code",
   "execution_count": null,
   "id": "1f571726",
   "metadata": {},
   "outputs": [],
   "source": []
  },
  {
   "cell_type": "markdown",
   "id": "492fffc7",
   "metadata": {},
   "source": [
    "# Using Numpy alone"
   ]
  },
  {
   "cell_type": "code",
   "execution_count": 13,
   "id": "676f81e5",
   "metadata": {},
   "outputs": [
    {
     "name": "stdout",
     "output_type": "stream",
     "text": [
      "prediction before training: f(5) = 0.000\n",
      "epoch 1, weight = 1.200, loss = 30.00000000\n",
      "epoch 3, weight = 1.872, loss = 0.76800019\n",
      "epoch 5, weight = 1.980, loss = 0.01966083\n",
      "epoch 7, weight = 1.997, loss = 0.00050332\n",
      "epoch 9, weight = 1.999, loss = 0.00001288\n",
      "Prediction after training: f(5) = 9.999\n"
     ]
    }
   ],
   "source": [
    "import numpy as np\n",
    "\n",
    "# f = w*X\n",
    "# f = 2 * X\n",
    "\n",
    "X = np.array([1,2,3,4], dtype = np.float32)\n",
    "Y = np.array([2,4,6,8], dtype = np.float32)\n",
    "\n",
    "w = 0.0 # init weight\n",
    "\n",
    "# forward pass\n",
    "def forward(x):\n",
    "    return w * x\n",
    "\n",
    "# loss\n",
    "def loss(y, y_pred):\n",
    "    # mean squared error\n",
    "    return ((y_pred - y) ** 2).mean()\n",
    "\n",
    "\n",
    "# gradient\n",
    "# MSE = 1/N * (w*x - y)**2)\n",
    "# dJ/dw = 1/N 2x (w*x - y) \n",
    "\n",
    "def gradient(x, y, y_pred):\n",
    "    return np.dot(2*x, y_pred - y).mean()\n",
    "\n",
    "print(f\"prediction before training: f(5) = {forward(5):.3f}\")\n",
    "\n",
    "\n",
    "# Training \n",
    "lr = 0.01\n",
    "n_iters = 10\n",
    "\n",
    "for epoch in range(n_iters):\n",
    "    # prediction\n",
    "    y_pred = forward(X)\n",
    "    \n",
    "    # loss\n",
    "    l = loss(Y, y_pred)\n",
    "    \n",
    "    # gradient\n",
    "    dw = gradient(X, Y, y_pred)\n",
    "    \n",
    "    # update weights\n",
    "    w -= lr * dw\n",
    "    \n",
    "    if epoch % 2 == 0:\n",
    "        print(f\"epoch {epoch+1}, weight = {w:.3f}, loss = {l:.8f}\")\n",
    "        \n",
    "\n",
    "print(f\"Prediction after training: f(5) = {forward(5):.3f}\")"
   ]
  },
  {
   "cell_type": "markdown",
   "id": "3ba4c6af",
   "metadata": {},
   "source": [
    "# Using Pytorch"
   ]
  },
  {
   "cell_type": "code",
   "execution_count": 14,
   "id": "af20bff6",
   "metadata": {},
   "outputs": [
    {
     "name": "stdout",
     "output_type": "stream",
     "text": [
      "prediction before training: f(5) = 0.000\n",
      "epoch 1, weight = 0.300, loss = 30.00000000\n",
      "epoch 11, weight = 1.665, loss = 1.16278565\n",
      "epoch 21, weight = 1.934, loss = 0.04506890\n",
      "epoch 31, weight = 1.987, loss = 0.00174685\n",
      "epoch 41, weight = 1.997, loss = 0.00006770\n",
      "epoch 51, weight = 1.999, loss = 0.00000262\n",
      "epoch 61, weight = 2.000, loss = 0.00000010\n",
      "epoch 71, weight = 2.000, loss = 0.00000000\n",
      "epoch 81, weight = 2.000, loss = 0.00000000\n",
      "epoch 91, weight = 2.000, loss = 0.00000000\n",
      "Prediction after training: f(5) = 10.000\n"
     ]
    }
   ],
   "source": [
    "# pytorch allows us not to manually calculate gradient\n",
    "\n",
    "import torch\n",
    "\n",
    "# f = w*X\n",
    "# f = 2 * X\n",
    "\n",
    "X = torch.tensor([1,2,3,4], dtype = torch.float32)\n",
    "Y = torch.tensor([2,4,6,8], dtype = torch.float32)\n",
    "\n",
    "w = torch.tensor(0.0, dtype = torch.float32, requires_grad = True) # init weight\n",
    "\n",
    "# forward pass\n",
    "def forward(x):\n",
    "    return w * x\n",
    "\n",
    "# loss\n",
    "def loss(y, y_pred):\n",
    "    # mean squared error\n",
    "    return ((y_pred - y) ** 2).mean()\n",
    "\n",
    "\n",
    "# gradient, no need to manually calcultae\n",
    "\n",
    "print(f\"prediction before training: f(5) = {forward(5):.3f}\")\n",
    "\n",
    "\n",
    "# Training \n",
    "lr = 0.01\n",
    "n_iters = 100 # backprog is not as exact as the numerical, so do more iterations\n",
    "\n",
    "for epoch in range(n_iters):\n",
    "    # prediction\n",
    "    y_pred = forward(X)\n",
    "    \n",
    "    # loss\n",
    "    l = loss(Y, y_pred)\n",
    "    \n",
    "    # gradient = backward pass\n",
    "    l.backward()# calculate loss wrt w dl/dw\n",
    "    \n",
    "    # update weights\n",
    "    with torch.no_grad():\n",
    "        w -= lr * w.grad\n",
    "    # zero gradient, so gradient is 0 over all iterations\n",
    "    w.grad.zero_()\n",
    "    \n",
    "    if epoch % 10 == 0:\n",
    "        print(f\"epoch {epoch+1}, weight = {w:.3f}, loss = {l:.8f}\")\n",
    "        \n",
    "\n",
    "print(f\"Prediction after training: f(5) = {forward(5):.3f}\")"
   ]
  },
  {
   "cell_type": "markdown",
   "id": "b3df07f0",
   "metadata": {},
   "source": [
    "# Pytorch Can do the entire pipeline for us\n",
    "- TRAINING pipeline:\n",
    "- ==> Design model training data (input, output size, forward pass)\n",
    "- ==> Construct Loss and Optimizer\n",
    "- ==> Training Loop\n",
    "    - forward pass: compute prediction\n",
    "    - backward pass: gradient\n",
    "    - update weights\n",
    "- Replace manual loss and optimizer computation with pytorch modules"
   ]
  },
  {
   "cell_type": "code",
   "execution_count": 15,
   "id": "27a04ec5",
   "metadata": {},
   "outputs": [
    {
     "name": "stdout",
     "output_type": "stream",
     "text": [
      "prediction before training: f(5) = 0.000\n",
      "epoch 1, weight = 0.300, loss = 30.00000000\n",
      "epoch 11, weight = 1.665, loss = 1.16278565\n",
      "epoch 21, weight = 1.934, loss = 0.04506890\n",
      "epoch 31, weight = 1.987, loss = 0.00174685\n",
      "epoch 41, weight = 1.997, loss = 0.00006770\n",
      "epoch 51, weight = 1.999, loss = 0.00000262\n",
      "epoch 61, weight = 2.000, loss = 0.00000010\n",
      "epoch 71, weight = 2.000, loss = 0.00000000\n",
      "epoch 81, weight = 2.000, loss = 0.00000000\n",
      "epoch 91, weight = 2.000, loss = 0.00000000\n",
      "Prediction after training: f(5) = 10.000\n"
     ]
    }
   ],
   "source": [
    "import torch\n",
    "import torch.nn as nn\n",
    "# f = w*X\n",
    "# f = 2 * X\n",
    "\n",
    "X = torch.tensor([1,2,3,4], dtype = torch.float32)\n",
    "Y = torch.tensor([2,4,6,8], dtype = torch.float32)\n",
    "\n",
    "w = torch.tensor(0.0, dtype = torch.float32, requires_grad = True) # init weight\n",
    "\n",
    "# forward pass\n",
    "def forward(x):\n",
    "    return w * x\n",
    "\n",
    "print(f\"prediction before training: f(5) = {forward(5):.3f}\")\n",
    "\n",
    "# Training \n",
    "lr = 0.01\n",
    "n_iters = 100 # backprog is not as exact as the numerical, so do more iterations\n",
    "\n",
    "loss = nn.MSELoss()\n",
    "optimizer = torch.optim.SGD([w], lr= lr)\n",
    "\n",
    "for epoch in range(n_iters):\n",
    "    # prediction\n",
    "    y_pred = forward(X)\n",
    "    \n",
    "    # loss\n",
    "    l = loss(Y, y_pred)\n",
    "    \n",
    "    # gradient = backward pass\n",
    "    l.backward()# calculate loss wrt w dl/dw\n",
    "    \n",
    "    # no need to manually update weights\n",
    "    optimizer.step()\n",
    "    \n",
    "    # zero gradient, so gradient is 0 over all iterations\n",
    "    optimizer.zero_grad()\n",
    "    \n",
    "    if epoch % 10 == 0:\n",
    "        print(f\"epoch {epoch+1}, weight = {w:.3f}, loss = {l:.8f}\")\n",
    "        \n",
    "\n",
    "print(f\"Prediction after training: f(5) = {forward(5):.3f}\")"
   ]
  },
  {
   "cell_type": "code",
   "execution_count": 16,
   "id": "04049f66",
   "metadata": {},
   "outputs": [
    {
     "name": "stdout",
     "output_type": "stream",
     "text": [
      "Input size: n_samples: 4 n_samples: 1\n",
      "prediction before training: f(5) = 0.039\n",
      "epoch 1, weight = 0.348, loss = 30.52545357\n",
      "epoch 11, weight = 1.617, loss = 0.81771147\n",
      "epoch 21, weight = 1.825, loss = 0.04747442\n",
      "epoch 31, weight = 1.861, loss = 0.02601473\n",
      "epoch 41, weight = 1.870, loss = 0.02401680\n",
      "epoch 51, weight = 1.875, loss = 0.02260640\n",
      "epoch 61, weight = 1.879, loss = 0.02129025\n",
      "epoch 71, weight = 1.882, loss = 0.02005107\n",
      "epoch 81, weight = 1.886, loss = 0.01888399\n",
      "epoch 91, weight = 1.889, loss = 0.01778483\n",
      "Prediction after training: f(5) = 9.778\n"
     ]
    }
   ],
   "source": [
    "import torch\n",
    "import torch.nn as nn\n",
    "# f = w*X\n",
    "# f = 2 * X\n",
    "\n",
    "X = torch.tensor([[1],[2],[3],[4]], dtype = torch.float32) # reshape as no of features\n",
    "Y = torch.tensor([[2],[4],[6],[8]], dtype = torch.float32)\n",
    "\n",
    "X_test = torch.tensor([5], dtype= torch.float32)\n",
    "\n",
    "n_samples, n_features = X.shape\n",
    "print('Input size:', 'n_samples:', n_samples, \"n_samples:\",n_features)\n",
    "\n",
    "input_size = n_features\n",
    "output_size = n_features\n",
    "\n",
    "# remove manual forward pass and w\n",
    "model = nn.Linear(input_size, output_size) # one layer\n",
    "\n",
    "print(f\"prediction before training: f(5) = {model(X_test).item():.3f}\")\n",
    "\n",
    "# Training \n",
    "lr = 0.01\n",
    "n_iters = 100 # backprog is not as exact as the numerical, so do more iterations\n",
    "\n",
    "loss = nn.MSELoss()\n",
    "optimizer = torch.optim.SGD(model.parameters(), lr= lr)\n",
    "\n",
    "for epoch in range(n_iters):\n",
    "    # prediction\n",
    "    y_pred = model(X)\n",
    "    \n",
    "    # loss\n",
    "    l = loss(Y, y_pred)\n",
    "    \n",
    "    # gradient = backward pass\n",
    "    l.backward()# calculate loss wrt w dl/dw\n",
    "    \n",
    "    # no need to manually update weights\n",
    "    optimizer.step()\n",
    "    \n",
    "    # zero gradient, so gradient is 0 over all iterations\n",
    "    optimizer.zero_grad()\n",
    "    \n",
    "    if epoch % 10 == 0:\n",
    "        [w,b] = model.parameters()\n",
    "        print(f\"epoch {epoch+1}, weight = {w[0][0].item():.3f}, loss = {l:.8f}\")\n",
    "        \n",
    "\n",
    "print(f\"Prediction after training: f(5) = {model(X_test).item():.3f}\")"
   ]
  },
  {
   "cell_type": "code",
   "execution_count": 17,
   "id": "25833983",
   "metadata": {},
   "outputs": [
    {
     "name": "stdout",
     "output_type": "stream",
     "text": [
      "Input size: n_samples: 4 n_samples: 1\n",
      "prediction before training: f(5) = 0.048\n",
      "epoch 1, weight = 0.160, loss = 27.16475677\n",
      "epoch 11, weight = 1.360, loss = 0.94269013\n",
      "epoch 21, weight = 1.563, loss = 0.25030079\n",
      "epoch 31, weight = 1.606, loss = 0.21923785\n",
      "epoch 41, weight = 1.622, loss = 0.20605038\n",
      "epoch 51, weight = 1.634, loss = 0.19404608\n",
      "epoch 61, weight = 1.645, loss = 0.18275142\n",
      "epoch 71, weight = 1.656, loss = 0.17211434\n",
      "epoch 81, weight = 1.666, loss = 0.16209643\n",
      "epoch 91, weight = 1.676, loss = 0.15266159\n",
      "Prediction after training: f(5) = 9.350\n"
     ]
    }
   ],
   "source": [
    "import torch\n",
    "import torch.nn as nn\n",
    "# f = w*X\n",
    "# f = 2 * X\n",
    "\n",
    "X = torch.tensor([[1],[2],[3],[4]], dtype = torch.float32) # reshape as no of features\n",
    "Y = torch.tensor([[2],[4],[6],[8]], dtype = torch.float32)\n",
    "\n",
    "X_test = torch.tensor([5], dtype= torch.float32)\n",
    "\n",
    "n_samples, n_features = X.shape\n",
    "print('Input size:', 'n_samples:', n_samples, \"n_samples:\",n_features)\n",
    "\n",
    "input_size = n_features\n",
    "output_size = n_features\n",
    "\n",
    "# custom model - to design pytorch model\n",
    "class LinearRegressionModel(nn.Module):\n",
    "    \n",
    "    def __init__(self, input_dim, output_dim):\n",
    "        super(LinearRegressionModel, self).__init__()\n",
    "        # defien layer\n",
    "        self.lin = nn.Linear(input_dim, output_dim)\n",
    "        \n",
    "    def forward(self, X):\n",
    "        return self.lin(X)\n",
    "    \n",
    "model = LinearRegressionModel(input_size, output_size)\n",
    "    \n",
    "    \n",
    "print(f\"prediction before training: f(5) = {model(X_test).item():.3f}\")\n",
    "\n",
    "# Training \n",
    "lr = 0.01\n",
    "n_iters = 100 # backprog is not as exact as the numerical, so do more iterations\n",
    "\n",
    "loss = nn.MSELoss()\n",
    "optimizer = torch.optim.SGD(model.parameters(), lr= lr)\n",
    "\n",
    "for epoch in range(n_iters):\n",
    "    # prediction\n",
    "    y_pred = model(X)\n",
    "    \n",
    "    # loss\n",
    "    l = loss(Y, y_pred)\n",
    "    \n",
    "    # gradient = backward pass\n",
    "    l.backward()# calculate loss wrt w dl/dw\n",
    "    \n",
    "    # no need to manually update weights\n",
    "    optimizer.step()\n",
    "    \n",
    "    # zero gradient, so gradient is 0 over all iterations\n",
    "    optimizer.zero_grad()\n",
    "    \n",
    "    if epoch % 10 == 0:\n",
    "        [w,b] = model.parameters()\n",
    "        print(f\"epoch {epoch+1}, weight = {w[0][0].item():.3f}, loss = {l:.8f}\")\n",
    "        \n",
    "\n",
    "print(f\"Prediction after training: f(5) = {model(X_test).item():.3f}\")"
   ]
  },
  {
   "cell_type": "markdown",
   "id": "7b113c20",
   "metadata": {},
   "source": [
    "# Linear Regression - Pytorch"
   ]
  },
  {
   "cell_type": "code",
   "execution_count": 18,
   "id": "a70c5ee8",
   "metadata": {},
   "outputs": [],
   "source": [
    "import torch\n",
    "import torch.nn as nn\n",
    "\n",
    "import numpy as np\n",
    "\n",
    "from sklearn import datasets\n",
    "\n",
    "import matplotlib.pyplot as plt\n",
    "%matplotlib inline"
   ]
  },
  {
   "cell_type": "code",
   "execution_count": 19,
   "id": "937f901b",
   "metadata": {},
   "outputs": [],
   "source": [
    "# Data\n",
    "\n",
    "X_numpy, y_numpy = datasets.make_regression(n_samples=100,\n",
    "                                            n_features=1,\n",
    "                                            noise=20,\n",
    "                                           random_state=42)\n",
    "# convert numpy to tensor\n",
    "X = torch.from_numpy(X_numpy.astype(np.float32))\n",
    "y = torch.from_numpy(y_numpy.astype(np.float32))\n",
    "\n",
    "# reshape\n",
    "y = y.view(y.shape[0], 1) # 1 column\n",
    "\n",
    "n_samples, n_features = X.shape"
   ]
  },
  {
   "cell_type": "code",
   "execution_count": 22,
   "id": "d372b1f1",
   "metadata": {},
   "outputs": [],
   "source": [
    "# sTEP 1 - Model\n",
    "\n",
    "model = nn.Linear(in_features= n_features, out_features= 1)"
   ]
  },
  {
   "cell_type": "code",
   "execution_count": 23,
   "id": "41322b8f",
   "metadata": {},
   "outputs": [],
   "source": [
    "# STEP 2. Loss and Optimizer\n",
    "learning_rate = 0.01\n",
    "criterion = nn.MSELoss()\n",
    "optimizer = torch.optim.SGD(model.parameters(), lr= learning_rate)"
   ]
  },
  {
   "cell_type": "code",
   "execution_count": 24,
   "id": "81e6c88c",
   "metadata": {},
   "outputs": [],
   "source": [
    "# STEP 3. Training loop\n",
    "# forward pass\n",
    "# backward pass\n",
    "# weight update\n",
    "epochs = 100\n",
    "for epoch in range(epochs):\n",
    "    # forward pass\n",
    "    y_pred = model(X)\n",
    "    loss = criterion(y, y_pred)\n",
    "    \n",
    "    # backward pass\n",
    "    loss.backward()\n",
    "    \n",
    "    # weight update\n",
    "    optimizer.step()\n",
    "    \n",
    "    optimizer.zero_grad() # never forget\n",
    "    \n",
    "    if (epoch + 1 % 10) == 0: # every 10 steps\n",
    "        print(f\"epoch: {epoch + 1}, loss= {loss.item():.4f}\")"
   ]
  },
  {
   "cell_type": "code",
   "execution_count": 25,
   "id": "c9507976",
   "metadata": {},
   "outputs": [
    {
     "data": {
      "image/png": "[encoded data removed]",
      "text/plain": [
       "<Figure size 432x288 with 1 Axes>"
      ]
     },
     "metadata": {
      "needs_background": "light"
     },
     "output_type": "display_data"
    }
   ],
   "source": [
    "# plot\n",
    "predicted = model(X).detach() # make requires_grad = False\n",
    "plt.plot(X_numpy, y_numpy, 'ro')\n",
    "plt.plot(X_numpy, predicted, 'b')\n",
    "plt.show()"
   ]
  },
  {
   "cell_type": "markdown",
   "id": "aa1fa432",
   "metadata": {},
   "source": [
    "# Logistic Regression"
   ]
  },
  {
   "cell_type": "code",
   "execution_count": 26,
   "id": "6ab2a6ce",
   "metadata": {},
   "outputs": [],
   "source": [
    "# Training loop\n",
    "# forward pass\n",
    "# backward pass\n",
    "# weight update"
   ]
  },
  {
   "cell_type": "code",
   "execution_count": 27,
   "id": "962091e6",
   "metadata": {},
   "outputs": [],
   "source": [
    "import torch\n",
    "import torch.nn as nn\n",
    "import numpy as np\n",
    "\n",
    "from sklearn import datasets\n",
    "from sklearn.preprocessing import StandardScaler\n",
    "from sklearn.model_selection import train_test_split"
   ]
  },
  {
   "cell_type": "code",
   "execution_count": 31,
   "id": "1b98811c",
   "metadata": {},
   "outputs": [],
   "source": [
    "# prepare dataset\n",
    "bc = datasets.load_breast_cancer()\n",
    "\n",
    "X, y = bc.data, bc.target"
   ]
  },
  {
   "cell_type": "code",
   "execution_count": 33,
   "id": "825e3b11",
   "metadata": {},
   "outputs": [
    {
     "data": {
      "text/plain": [
       "(569, 30)"
      ]
     },
     "execution_count": 33,
     "metadata": {},
     "output_type": "execute_result"
    }
   ],
   "source": [
    "n_samples, n_features = X.shape\n",
    "n_samples, n_features"
   ]
  },
  {
   "cell_type": "code",
   "execution_count": 38,
   "id": "fd663dce",
   "metadata": {},
   "outputs": [],
   "source": [
    "# split data\n",
    "X_train, X_test, y_train, y_test = train_test_split(X, y, test_size=0.2, random_state=42)"
   ]
  },
  {
   "cell_type": "code",
   "execution_count": 39,
   "id": "27c6dce0",
   "metadata": {},
   "outputs": [],
   "source": [
    "# scale\n",
    "sc = StandardScaler()\n",
    "X_train = sc.fit_transform(X_train)\n",
    "X_test = sc.transform(X_test)"
   ]
  },
  {
   "cell_type": "code",
   "execution_count": 40,
   "id": "66e9a9bd",
   "metadata": {},
   "outputs": [],
   "source": [
    "# convert to tensor\n",
    "X_train = torch.from_numpy(X_train.astype(np.float32))\n",
    "X_test = torch.from_numpy(X_test.astype(np.float32))\n",
    "y_train = torch.from_numpy(y_train.astype(np.float32))\n",
    "y_test = torch.from_numpy(y_test.astype(np.float32))"
   ]
  },
  {
   "cell_type": "code",
   "execution_count": 42,
   "id": "84996dd3",
   "metadata": {},
   "outputs": [],
   "source": [
    "# one col\n",
    "y_train = y_train.view(y_train.shape[0], 1)\n",
    "y_test = y_test.view(y_test.shape[0], 1)"
   ]
  },
  {
   "cell_type": "code",
   "execution_count": 49,
   "id": "1187bae0",
   "metadata": {},
   "outputs": [],
   "source": [
    "# model - linear combo of weight and bias\n",
    "\n",
    "class LogisticRegression(nn.Module):\n",
    "    def __init__(self, n_input_features):\n",
    "        super(LogisticRegression, self).__init__()\n",
    "        self.linear = nn.Linear(n_input_features, 1) # one class label at the end\n",
    "        \n",
    "    def forward(self, x):\n",
    "        \n",
    "        y_pred = torch.sigmoid(self.linear(x))\n",
    "        \n",
    "        return y_pred\n",
    "    "
   ]
  },
  {
   "cell_type": "code",
   "execution_count": 50,
   "id": "5f175d1b",
   "metadata": {},
   "outputs": [],
   "source": [
    "model = LogisticRegression(n_features)\n",
    "\n",
    "# loss and optimizer\n",
    "lr = 0.01\n",
    "criterion = nn.BCELoss()\n",
    "optimizer = torch.optim.SGD(model.parameters(), lr = lr)"
   ]
  },
  {
   "cell_type": "code",
   "execution_count": 51,
   "id": "54dce825",
   "metadata": {},
   "outputs": [
    {
     "name": "stdout",
     "output_type": "stream",
     "text": [
      "epoch 10, loss = 0.4770\n",
      "epoch 20, loss = 0.4294\n",
      "epoch 30, loss = 0.3935\n",
      "epoch 40, loss = 0.3653\n",
      "epoch 50, loss = 0.3424\n",
      "epoch 60, loss = 0.3232\n",
      "epoch 70, loss = 0.3070\n",
      "epoch 80, loss = 0.2930\n",
      "epoch 90, loss = 0.2808\n",
      "epoch 100, loss = 0.2699\n"
     ]
    }
   ],
   "source": [
    "# training loop\n",
    "\n",
    "epochs = 100\n",
    "for epoch in range(epochs):\n",
    "    # forward pass and loss\n",
    "    y_pred = model(X_train)\n",
    "    loss = criterion(y_pred, y_train)\n",
    "    \n",
    "    # backward passsss\n",
    "    loss.backward()\n",
    "    \n",
    "    #update\n",
    "    optimizer.step()\n",
    "    \n",
    "    # zero gradient\n",
    "    optimizer.zero_grad()\n",
    "    \n",
    "    if (epoch + 1) % 10 == 0:\n",
    "        print(f'epoch {epoch +1}, loss = {loss.item():.4f}')"
   ]
  },
  {
   "cell_type": "code",
   "execution_count": 53,
   "id": "4bb45dac",
   "metadata": {},
   "outputs": [
    {
     "name": "stdout",
     "output_type": "stream",
     "text": [
      "accuracy = 0.9649\n"
     ]
    }
   ],
   "source": [
    "# model evaluation\n",
    "\n",
    "with torch.no_grad():\n",
    "    y_pred = model(X_test)\n",
    "    y_pred_cls = y_pred.round()\n",
    "    \n",
    "    # accuracy\n",
    "    acc = y_pred_cls.eq(y_test).sum() / float(y_test.shape[0])\n",
    "    print(f'accuracy = {acc:.4f}')\n",
    "    "
   ]
  },
  {
   "cell_type": "code",
   "execution_count": null,
   "id": "f41ad555",
   "metadata": {},
   "outputs": [],
   "source": []
  },
  {
   "cell_type": "markdown",
   "id": "7d4a6e86",
   "metadata": {},
   "source": [
    "# Batch Training - Dataset and DataLoader"
   ]
  },
  {
   "cell_type": "code",
   "execution_count": 54,
   "id": "83117081",
   "metadata": {},
   "outputs": [],
   "source": [
    "import torch\n",
    "import torchvision\n",
    "from torch.utils.data import Dataset, DataLoader\n",
    "import numpy as np\n",
    "import math"
   ]
  },
  {
   "cell_type": "code",
   "execution_count": 57,
   "id": "bca746dc",
   "metadata": {},
   "outputs": [],
   "source": [
    "class WineDataset(Dataset):\n",
    "    \n",
    "    def __init__(self):\n",
    "        # data loading\n",
    "        xy = np.loadtxt('Wine_data.csv', delimiter=\",\",\n",
    "                        dtype= np.float32, skiprows=1)\n",
    "        self.x = torch.from_numpy(xy[:,1:])\n",
    "        self.y = torch.from_numpy(xy[:, [0]]) # n_samples, 1\n",
    "        self.n_samples = xy.shape[0]\n",
    "        \n",
    "    def __getitem__(self, index):\n",
    "        # dataset[] call with index\n",
    "        return self.x[index], self.y[index]\n",
    "        \n",
    "    def __len__(self):\n",
    "        # len(dataset)\n",
    "        return self.n_samples"
   ]
  },
  {
   "cell_type": "code",
   "execution_count": 61,
   "id": "d6799fe7",
   "metadata": {},
   "outputs": [
    {
     "ename": "AttributeError",
     "evalue": "'_MultiProcessingDataLoaderIter' object has no attribute 'next'",
     "output_type": "error",
     "traceback": [
      "\u001b[1;31m---------------------------------------------------------------------------\u001b[0m",
      "\u001b[1;31mAttributeError\u001b[0m                            Traceback (most recent call last)",
      "\u001b[1;32m<ipython-input-61-fd1eefd78997>\u001b[0m in \u001b[0;36m<module>\u001b[1;34m\u001b[0m\n\u001b[0;32m     18\u001b[0m \u001b[1;33m\u001b[0m\u001b[0m\n\u001b[0;32m     19\u001b[0m \u001b[0mdataiter\u001b[0m \u001b[1;33m=\u001b[0m \u001b[0miter\u001b[0m\u001b[1;33m(\u001b[0m\u001b[0mdataloader\u001b[0m\u001b[1;33m)\u001b[0m\u001b[1;33m\u001b[0m\u001b[1;33m\u001b[0m\u001b[0m\n\u001b[1;32m---> 20\u001b[1;33m \u001b[0mdata\u001b[0m \u001b[1;33m=\u001b[0m \u001b[0mdataiter\u001b[0m\u001b[1;33m.\u001b[0m\u001b[0mnext\u001b[0m\u001b[1;33m(\u001b[0m\u001b[1;33m)\u001b[0m\u001b[1;33m\u001b[0m\u001b[1;33m\u001b[0m\u001b[0m\n\u001b[0m\u001b[0;32m     21\u001b[0m \u001b[1;33m\u001b[0m\u001b[0m\n\u001b[0;32m     22\u001b[0m \u001b[0mfeatures\u001b[0m\u001b[1;33m,\u001b[0m \u001b[0mlabels\u001b[0m \u001b[1;33m=\u001b[0m \u001b[0mdata\u001b[0m\u001b[1;33m\u001b[0m\u001b[1;33m\u001b[0m\u001b[0m\n",
      "\u001b[1;31mAttributeError\u001b[0m: '_MultiProcessingDataLoaderIter' object has no attribute 'next'"
     ]
    }
   ],
   "source": [
    "# a look\n",
    "\n",
    "#dataset = WineDataset()\n",
    "\n",
    "#first_data = dataset[0]\n",
    "#features, labels = first_data\n",
    "\n",
    "#features, labels\n",
    "\n",
    "# dataloader\n",
    "\n",
    "dataset = WineDataset()\n",
    "\n",
    "dataloader = DataLoader(dataset= dataset,\n",
    "                       batch_size=4,\n",
    "                       shuffle=True,\n",
    "                       num_workers = 2)\n",
    "\n",
    "dataiter = iter(dataloader)\n",
    "data = dataiter.next()\n",
    "\n",
    "features, labels = data\n",
    "features, labels"
   ]
  },
  {
   "cell_type": "code",
   "execution_count": null,
   "id": "dd698437",
   "metadata": {},
   "outputs": [],
   "source": []
  },
  {
   "cell_type": "code",
   "execution_count": null,
   "id": "9abb4197",
   "metadata": {},
   "outputs": [],
   "source": []
  },
  {
   "cell_type": "code",
   "execution_count": null,
   "id": "eb7823ad",
   "metadata": {},
   "outputs": [],
   "source": []
  },
  {
   "cell_type": "code",
   "execution_count": null,
   "id": "95e9a114",
   "metadata": {},
   "outputs": [],
   "source": []
  },
  {
   "cell_type": "code",
   "execution_count": null,
   "id": "36b0fc41",
   "metadata": {},
   "outputs": [],
   "source": []
  },
  {
   "cell_type": "code",
   "execution_count": null,
   "id": "8214d7c2",
   "metadata": {},
   "outputs": [],
   "source": []
  }
 ],
 "metadata": {
  "kernelspec": {
   "display_name": "Python 3",
   "language": "python",
   "name": "python3"
  },
  "language_info": {
   "codemirror_mode": {
    "name": "ipython",
    "version": 3
   },
   "file_extension": ".py",
   "mimetype": "text/x-python",
   "name": "python",
   "nbconvert_exporter": "python",
   "pygments_lexer": "ipython3",
   "version": "3.8.8"
  }
 },
 "nbformat": 4,
 "nbformat_minor": 5
}
